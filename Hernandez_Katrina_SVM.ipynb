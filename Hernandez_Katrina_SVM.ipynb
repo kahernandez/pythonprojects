{
 "cells": [
  {
   "cell_type": "markdown",
   "metadata": {
    "deletable": true,
    "editable": true
   },
   "source": [
    "___\n",
    "\n",
    "\n",
    "___\n",
    "# Support Vector Machines In-class Lab\n",
    "\n",
    "## Import Libraries"
   ]
  },
  {
   "cell_type": "code",
   "execution_count": 1,
   "metadata": {
    "collapsed": true,
    "deletable": true,
    "editable": true
   },
   "outputs": [],
   "source": [
    "import pandas as pd\n",
    "import numpy as np\n",
    "import matplotlib.pyplot as plt\n",
    "import seaborn as sns\n",
    "%matplotlib inline"
   ]
  },
  {
   "cell_type": "markdown",
   "metadata": {
    "deletable": true,
    "editable": true
   },
   "source": [
    "## Get the Data"
   ]
  },
  {
   "cell_type": "code",
   "execution_count": 2,
   "metadata": {
    "collapsed": true,
    "deletable": true,
    "editable": true
   },
   "outputs": [],
   "source": [
    "social = pd.read_csv('Social_Network_Ads.csv')"
   ]
  },
  {
   "cell_type": "code",
   "execution_count": 3,
   "metadata": {
    "collapsed": false,
    "deletable": true,
    "editable": true
   },
   "outputs": [
    {
     "data": {
      "text/html": [
       "<div>\n",
       "<style>\n",
       "    .dataframe thead tr:only-child th {\n",
       "        text-align: right;\n",
       "    }\n",
       "\n",
       "    .dataframe thead th {\n",
       "        text-align: left;\n",
       "    }\n",
       "\n",
       "    .dataframe tbody tr th {\n",
       "        vertical-align: top;\n",
       "    }\n",
       "</style>\n",
       "<table border=\"1\" class=\"dataframe\">\n",
       "  <thead>\n",
       "    <tr style=\"text-align: right;\">\n",
       "      <th></th>\n",
       "      <th>User ID</th>\n",
       "      <th>Gender</th>\n",
       "      <th>Age</th>\n",
       "      <th>EstimatedSalary</th>\n",
       "      <th>Purchased</th>\n",
       "    </tr>\n",
       "  </thead>\n",
       "  <tbody>\n",
       "    <tr>\n",
       "      <th>0</th>\n",
       "      <td>15624510</td>\n",
       "      <td>Male</td>\n",
       "      <td>19</td>\n",
       "      <td>19000</td>\n",
       "      <td>0</td>\n",
       "    </tr>\n",
       "    <tr>\n",
       "      <th>1</th>\n",
       "      <td>15810944</td>\n",
       "      <td>Male</td>\n",
       "      <td>35</td>\n",
       "      <td>20000</td>\n",
       "      <td>0</td>\n",
       "    </tr>\n",
       "    <tr>\n",
       "      <th>2</th>\n",
       "      <td>15668575</td>\n",
       "      <td>Female</td>\n",
       "      <td>26</td>\n",
       "      <td>43000</td>\n",
       "      <td>0</td>\n",
       "    </tr>\n",
       "  </tbody>\n",
       "</table>\n",
       "</div>"
      ],
      "text/plain": [
       "    User ID  Gender  Age  EstimatedSalary  Purchased\n",
       "0  15624510    Male   19            19000          0\n",
       "1  15810944    Male   35            20000          0\n",
       "2  15668575  Female   26            43000          0"
      ]
     },
     "execution_count": 3,
     "metadata": {},
     "output_type": "execute_result"
    }
   ],
   "source": [
    "social.head(3)"
   ]
  },
  {
   "cell_type": "markdown",
   "metadata": {
    "deletable": true,
    "editable": true
   },
   "source": [
    "UserID is an identifier, not a predictor. Gender should be changed from Male/Female to 0/1. Purchased is the target variable. This will likely need to be scaled because EstimatedSalary is on a very large scale."
   ]
  },
  {
   "cell_type": "code",
   "execution_count": 4,
   "metadata": {
    "collapsed": false,
    "deletable": true,
    "editable": true
   },
   "outputs": [
    {
     "name": "stdout",
     "output_type": "stream",
     "text": [
      "<class 'pandas.core.frame.DataFrame'>\n",
      "RangeIndex: 400 entries, 0 to 399\n",
      "Data columns (total 5 columns):\n",
      "User ID            400 non-null int64\n",
      "Gender             400 non-null object\n",
      "Age                400 non-null int64\n",
      "EstimatedSalary    400 non-null int64\n",
      "Purchased          400 non-null int64\n",
      "dtypes: int64(4), object(1)\n",
      "memory usage: 15.7+ KB\n"
     ]
    }
   ],
   "source": [
    "social.info()"
   ]
  },
  {
   "cell_type": "markdown",
   "metadata": {
    "deletable": true,
    "editable": true
   },
   "source": [
    "No missing values to handle!"
   ]
  },
  {
   "cell_type": "markdown",
   "metadata": {
    "deletable": true,
    "editable": true
   },
   "source": [
    "Drop User ID:"
   ]
  },
  {
   "cell_type": "code",
   "execution_count": 5,
   "metadata": {
    "collapsed": false,
    "deletable": true,
    "editable": true
   },
   "outputs": [],
   "source": [
    "social.drop(['User ID'], axis=1, inplace=True)"
   ]
  },
  {
   "cell_type": "code",
   "execution_count": 6,
   "metadata": {
    "collapsed": true,
    "deletable": true,
    "editable": true
   },
   "outputs": [],
   "source": [
    "social['Gender'].replace('Male', 1, inplace=True)\n",
    "social['Gender'].replace('Female', 0, inplace=True)"
   ]
  },
  {
   "cell_type": "code",
   "execution_count": 7,
   "metadata": {
    "collapsed": false,
    "deletable": true,
    "editable": true
   },
   "outputs": [
    {
     "data": {
      "text/plain": [
       "0    1\n",
       "1    1\n",
       "2    0\n",
       "3    0\n",
       "4    1\n",
       "Name: Gender, dtype: int64"
      ]
     },
     "execution_count": 7,
     "metadata": {},
     "output_type": "execute_result"
    }
   ],
   "source": [
    "## validating according to cell above\n",
    "social['Gender'].head()"
   ]
  },
  {
   "cell_type": "code",
   "execution_count": 8,
   "metadata": {
    "collapsed": false,
    "deletable": true,
    "editable": true
   },
   "outputs": [
    {
     "data": {
      "text/html": [
       "<div>\n",
       "<style>\n",
       "    .dataframe thead tr:only-child th {\n",
       "        text-align: right;\n",
       "    }\n",
       "\n",
       "    .dataframe thead th {\n",
       "        text-align: left;\n",
       "    }\n",
       "\n",
       "    .dataframe tbody tr th {\n",
       "        vertical-align: top;\n",
       "    }\n",
       "</style>\n",
       "<table border=\"1\" class=\"dataframe\">\n",
       "  <thead>\n",
       "    <tr style=\"text-align: right;\">\n",
       "      <th></th>\n",
       "      <th>Male</th>\n",
       "      <th>Age</th>\n",
       "      <th>EstimatedSalary</th>\n",
       "      <th>Purchased</th>\n",
       "    </tr>\n",
       "  </thead>\n",
       "  <tbody>\n",
       "    <tr>\n",
       "      <th>0</th>\n",
       "      <td>1</td>\n",
       "      <td>19</td>\n",
       "      <td>19000</td>\n",
       "      <td>0</td>\n",
       "    </tr>\n",
       "    <tr>\n",
       "      <th>1</th>\n",
       "      <td>1</td>\n",
       "      <td>35</td>\n",
       "      <td>20000</td>\n",
       "      <td>0</td>\n",
       "    </tr>\n",
       "    <tr>\n",
       "      <th>2</th>\n",
       "      <td>0</td>\n",
       "      <td>26</td>\n",
       "      <td>43000</td>\n",
       "      <td>0</td>\n",
       "    </tr>\n",
       "    <tr>\n",
       "      <th>3</th>\n",
       "      <td>0</td>\n",
       "      <td>27</td>\n",
       "      <td>57000</td>\n",
       "      <td>0</td>\n",
       "    </tr>\n",
       "    <tr>\n",
       "      <th>4</th>\n",
       "      <td>1</td>\n",
       "      <td>19</td>\n",
       "      <td>76000</td>\n",
       "      <td>0</td>\n",
       "    </tr>\n",
       "  </tbody>\n",
       "</table>\n",
       "</div>"
      ],
      "text/plain": [
       "   Male  Age  EstimatedSalary  Purchased\n",
       "0     1   19            19000          0\n",
       "1     1   35            20000          0\n",
       "2     0   26            43000          0\n",
       "3     0   27            57000          0\n",
       "4     1   19            76000          0"
      ]
     },
     "execution_count": 8,
     "metadata": {},
     "output_type": "execute_result"
    }
   ],
   "source": [
    "social.rename(index=str, columns={\"Gender\": \"Male\"}, inplace=True)\n",
    "social.head()"
   ]
  },
  {
   "cell_type": "code",
   "execution_count": 9,
   "metadata": {
    "collapsed": false,
    "deletable": true,
    "editable": true
   },
   "outputs": [
    {
     "name": "stdout",
     "output_type": "stream",
     "text": [
      "<class 'pandas.core.frame.DataFrame'>\n",
      "Index: 400 entries, 0 to 399\n",
      "Data columns (total 4 columns):\n",
      "Male               400 non-null int64\n",
      "Age                400 non-null int64\n",
      "EstimatedSalary    400 non-null int64\n",
      "Purchased          400 non-null int64\n",
      "dtypes: int64(4)\n",
      "memory usage: 15.6+ KB\n"
     ]
    }
   ],
   "source": [
    "social.info()"
   ]
  },
  {
   "cell_type": "code",
   "execution_count": 10,
   "metadata": {
    "collapsed": false,
    "deletable": true,
    "editable": true
   },
   "outputs": [
    {
     "data": {
      "text/html": [
       "<div>\n",
       "<style>\n",
       "    .dataframe thead tr:only-child th {\n",
       "        text-align: right;\n",
       "    }\n",
       "\n",
       "    .dataframe thead th {\n",
       "        text-align: left;\n",
       "    }\n",
       "\n",
       "    .dataframe tbody tr th {\n",
       "        vertical-align: top;\n",
       "    }\n",
       "</style>\n",
       "<table border=\"1\" class=\"dataframe\">\n",
       "  <thead>\n",
       "    <tr style=\"text-align: right;\">\n",
       "      <th></th>\n",
       "      <th>Male</th>\n",
       "      <th>Age</th>\n",
       "      <th>EstimatedSalary</th>\n",
       "    </tr>\n",
       "  </thead>\n",
       "  <tbody>\n",
       "    <tr>\n",
       "      <th>0</th>\n",
       "      <td>1</td>\n",
       "      <td>19</td>\n",
       "      <td>19000</td>\n",
       "    </tr>\n",
       "    <tr>\n",
       "      <th>1</th>\n",
       "      <td>1</td>\n",
       "      <td>35</td>\n",
       "      <td>20000</td>\n",
       "    </tr>\n",
       "    <tr>\n",
       "      <th>2</th>\n",
       "      <td>0</td>\n",
       "      <td>26</td>\n",
       "      <td>43000</td>\n",
       "    </tr>\n",
       "    <tr>\n",
       "      <th>3</th>\n",
       "      <td>0</td>\n",
       "      <td>27</td>\n",
       "      <td>57000</td>\n",
       "    </tr>\n",
       "    <tr>\n",
       "      <th>4</th>\n",
       "      <td>1</td>\n",
       "      <td>19</td>\n",
       "      <td>76000</td>\n",
       "    </tr>\n",
       "  </tbody>\n",
       "</table>\n",
       "</div>"
      ],
      "text/plain": [
       "   Male  Age  EstimatedSalary\n",
       "0     1   19            19000\n",
       "1     1   35            20000\n",
       "2     0   26            43000\n",
       "3     0   27            57000\n",
       "4     1   19            76000"
      ]
     },
     "execution_count": 10,
     "metadata": {},
     "output_type": "execute_result"
    }
   ],
   "source": [
    "X = social.drop(['Purchased'], axis=1)\n",
    "X.head()"
   ]
  },
  {
   "cell_type": "code",
   "execution_count": 11,
   "metadata": {
    "collapsed": true,
    "deletable": true,
    "editable": true
   },
   "outputs": [],
   "source": [
    "y = social['Purchased']"
   ]
  },
  {
   "cell_type": "markdown",
   "metadata": {
    "deletable": true,
    "editable": true
   },
   "source": [
    "## Train Test Split"
   ]
  },
  {
   "cell_type": "code",
   "execution_count": 12,
   "metadata": {
    "collapsed": true,
    "deletable": true,
    "editable": true
   },
   "outputs": [],
   "source": [
    "from sklearn.model_selection import train_test_split"
   ]
  },
  {
   "cell_type": "code",
   "execution_count": 13,
   "metadata": {
    "collapsed": true,
    "deletable": true,
    "editable": true
   },
   "outputs": [],
   "source": [
    "X_train, X_test, y_train, y_test = train_test_split(X, y, test_size = 0.25, random_state = 0)"
   ]
  },
  {
   "cell_type": "markdown",
   "metadata": {
    "deletable": true,
    "editable": true
   },
   "source": [
    "## Train the Support Vector Classifier"
   ]
  },
  {
   "cell_type": "code",
   "execution_count": 14,
   "metadata": {
    "collapsed": true,
    "deletable": true,
    "editable": true
   },
   "outputs": [],
   "source": [
    "from sklearn.svm import SVC"
   ]
  },
  {
   "cell_type": "code",
   "execution_count": 15,
   "metadata": {
    "collapsed": true,
    "deletable": true,
    "editable": true
   },
   "outputs": [],
   "source": [
    "model = SVC()"
   ]
  },
  {
   "cell_type": "code",
   "execution_count": 16,
   "metadata": {
    "collapsed": false,
    "deletable": true,
    "editable": true
   },
   "outputs": [
    {
     "data": {
      "text/plain": [
       "SVC(C=1.0, cache_size=200, class_weight=None, coef0=0.0,\n",
       "  decision_function_shape='ovr', degree=3, gamma='auto', kernel='rbf',\n",
       "  max_iter=-1, probability=False, random_state=None, shrinking=True,\n",
       "  tol=0.001, verbose=False)"
      ]
     },
     "execution_count": 16,
     "metadata": {},
     "output_type": "execute_result"
    }
   ],
   "source": [
    "model.fit(X_train,y_train)"
   ]
  },
  {
   "cell_type": "markdown",
   "metadata": {
    "deletable": true,
    "editable": true
   },
   "source": [
    "## Predictions and Evaluations"
   ]
  },
  {
   "cell_type": "code",
   "execution_count": 17,
   "metadata": {
    "collapsed": true,
    "deletable": true,
    "editable": true
   },
   "outputs": [],
   "source": [
    "predictions = model.predict(X_test)"
   ]
  },
  {
   "cell_type": "code",
   "execution_count": 18,
   "metadata": {
    "collapsed": true,
    "deletable": true,
    "editable": true
   },
   "outputs": [],
   "source": [
    "from sklearn.metrics import classification_report,confusion_matrix"
   ]
  },
  {
   "cell_type": "code",
   "execution_count": 19,
   "metadata": {
    "collapsed": false,
    "deletable": true,
    "editable": true
   },
   "outputs": [
    {
     "name": "stdout",
     "output_type": "stream",
     "text": [
      "[[67  1]\n",
      " [25  7]]\n"
     ]
    }
   ],
   "source": [
    "print(confusion_matrix(y_test,predictions))"
   ]
  },
  {
   "cell_type": "code",
   "execution_count": 20,
   "metadata": {
    "collapsed": false,
    "deletable": true,
    "editable": true
   },
   "outputs": [
    {
     "name": "stdout",
     "output_type": "stream",
     "text": [
      "             precision    recall  f1-score   support\n",
      "\n",
      "          0       0.73      0.99      0.84        68\n",
      "          1       0.88      0.22      0.35        32\n",
      "\n",
      "avg / total       0.78      0.74      0.68       100\n",
      "\n"
     ]
    }
   ],
   "source": [
    "print(classification_report(y_test,predictions))"
   ]
  },
  {
   "cell_type": "markdown",
   "metadata": {
    "deletable": true,
    "editable": true
   },
   "source": [
    "Doesn't look like recall is good on purchasers- try scaling."
   ]
  },
  {
   "cell_type": "markdown",
   "metadata": {
    "deletable": true,
    "editable": true
   },
   "source": [
    "## Train the Support Vector Classifier on Scaled Predictors"
   ]
  },
  {
   "cell_type": "code",
   "execution_count": 21,
   "metadata": {
    "collapsed": true,
    "deletable": true,
    "editable": true
   },
   "outputs": [],
   "source": [
    "## with feature scaling\n",
    "from sklearn import preprocessing\n",
    "\n",
    "scaler = preprocessing.StandardScaler().fit(X_train)\n",
    "X_train_scaled = scaler.transform(X_train)\n",
    "X_test_scaled = scaler.transform(X_test)"
   ]
  },
  {
   "cell_type": "code",
   "execution_count": 22,
   "metadata": {
    "collapsed": false,
    "deletable": true,
    "editable": true
   },
   "outputs": [
    {
     "data": {
      "text/plain": [
       "SVC(C=1.0, cache_size=200, class_weight=None, coef0=0.0,\n",
       "  decision_function_shape='ovr', degree=3, gamma='auto', kernel='rbf',\n",
       "  max_iter=-1, probability=False, random_state=None, shrinking=True,\n",
       "  tol=0.001, verbose=False)"
      ]
     },
     "execution_count": 22,
     "metadata": {},
     "output_type": "execute_result"
    }
   ],
   "source": [
    "model2 = SVC()\n",
    "model2.fit(X_train_scaled,y_train)"
   ]
  },
  {
   "cell_type": "markdown",
   "metadata": {
    "deletable": true,
    "editable": true
   },
   "source": [
    "## Predictions and Evaluations on Scaled Predictors"
   ]
  },
  {
   "cell_type": "code",
   "execution_count": 23,
   "metadata": {
    "collapsed": true,
    "deletable": true,
    "editable": true
   },
   "outputs": [],
   "source": [
    "predictions2 = model2.predict(X_test_scaled)"
   ]
  },
  {
   "cell_type": "code",
   "execution_count": 24,
   "metadata": {
    "collapsed": true,
    "deletable": true,
    "editable": true
   },
   "outputs": [],
   "source": [
    "from sklearn.metrics import classification_report,confusion_matrix"
   ]
  },
  {
   "cell_type": "code",
   "execution_count": 25,
   "metadata": {
    "collapsed": false,
    "deletable": true,
    "editable": true
   },
   "outputs": [
    {
     "name": "stdout",
     "output_type": "stream",
     "text": [
      "[[67  1]\n",
      " [25  7]]\n"
     ]
    }
   ],
   "source": [
    "print(confusion_matrix(y_test,predictions))"
   ]
  },
  {
   "cell_type": "code",
   "execution_count": 26,
   "metadata": {
    "collapsed": false,
    "deletable": true,
    "editable": true
   },
   "outputs": [
    {
     "name": "stdout",
     "output_type": "stream",
     "text": [
      "             precision    recall  f1-score   support\n",
      "\n",
      "          0       0.73      0.99      0.84        68\n",
      "          1       0.88      0.22      0.35        32\n",
      "\n",
      "avg / total       0.78      0.74      0.68       100\n",
      "\n"
     ]
    }
   ],
   "source": [
    "print(classification_report(y_test,predictions))"
   ]
  },
  {
   "cell_type": "markdown",
   "metadata": {
    "deletable": true,
    "editable": true
   },
   "source": [
    "## Gridsearch- RBF"
   ]
  },
  {
   "cell_type": "code",
   "execution_count": 27,
   "metadata": {
    "collapsed": true,
    "deletable": true,
    "editable": true
   },
   "outputs": [],
   "source": [
    "param_grid = {'C': [0.1,1, 10, 100, 1000], 'gamma': [1,0.1,0.01,0.001,0.0001], 'kernel': ['rbf']} "
   ]
  },
  {
   "cell_type": "code",
   "execution_count": 28,
   "metadata": {
    "collapsed": true,
    "deletable": true,
    "editable": true
   },
   "outputs": [],
   "source": [
    "from sklearn.model_selection import GridSearchCV"
   ]
  },
  {
   "cell_type": "code",
   "execution_count": 29,
   "metadata": {
    "collapsed": true,
    "deletable": true,
    "editable": true
   },
   "outputs": [],
   "source": [
    "grid = GridSearchCV(SVC(),param_grid,refit=True,verbose=3)"
   ]
  },
  {
   "cell_type": "code",
   "execution_count": 30,
   "metadata": {
    "collapsed": false,
    "deletable": true,
    "editable": true
   },
   "outputs": [
    {
     "name": "stdout",
     "output_type": "stream",
     "text": [
      "Fitting 3 folds for each of 25 candidates, totalling 75 fits\n",
      "[CV] kernel=rbf, gamma=1, C=0.1 ......................................\n",
      "[CV] ........... kernel=rbf, gamma=1, C=0.1, score=0.63, total=   0.0s\n",
      "[CV] kernel=rbf, gamma=1, C=0.1 ......................................\n",
      "[CV] ........... kernel=rbf, gamma=1, C=0.1, score=0.63, total=   0.0s\n",
      "[CV] kernel=rbf, gamma=1, C=0.1 ......................................\n",
      "[CV] ........... kernel=rbf, gamma=1, C=0.1, score=0.63, total=   0.0s\n",
      "[CV] kernel=rbf, gamma=0.1, C=0.1 ....................................\n",
      "[CV] ......... kernel=rbf, gamma=0.1, C=0.1, score=0.63, total=   0.0s\n",
      "[CV] kernel=rbf, gamma=0.1, C=0.1 ....................................\n",
      "[CV] ......... kernel=rbf, gamma=0.1, C=0.1, score=0.63, total=   0.0s\n",
      "[CV] kernel=rbf, gamma=0.1, C=0.1 ....................................\n",
      "[CV] ......... kernel=rbf, gamma=0.1, C=0.1, score=0.63, total=   0.0s\n",
      "[CV] kernel=rbf, gamma=0.01, C=0.1 ...................................\n",
      "[CV] ........ kernel=rbf, gamma=0.01, C=0.1, score=0.63, total=   0.0s\n",
      "[CV] kernel=rbf, gamma=0.01, C=0.1 ...................................\n",
      "[CV] ........ kernel=rbf, gamma=0.01, C=0.1, score=0.63, total=   0.0s\n",
      "[CV] kernel=rbf, gamma=0.01, C=0.1 ...................................\n",
      "[CV] ........ kernel=rbf, gamma=0.01, C=0.1, score=0.63, total=   0.0s\n",
      "[CV] kernel=rbf, gamma=0.001, C=0.1 ..................................\n",
      "[CV] ....... kernel=rbf, gamma=0.001, C=0.1, score=0.63, total=   0.0s\n",
      "[CV] kernel=rbf, gamma=0.001, C=0.1 ..................................\n",
      "[CV] ....... kernel=rbf, gamma=0.001, C=0.1, score=0.63, total=   0.0s\n",
      "[CV] kernel=rbf, gamma=0.001, C=0.1 ..................................\n",
      "[CV] ....... kernel=rbf, gamma=0.001, C=0.1, score=0.63, total=   0.0s\n",
      "[CV] kernel=rbf, gamma=0.0001, C=0.1 .................................\n",
      "[CV] ...... kernel=rbf, gamma=0.0001, C=0.1, score=0.63, total=   0.0s\n",
      "[CV] kernel=rbf, gamma=0.0001, C=0.1 .................................\n",
      "[CV] ...... kernel=rbf, gamma=0.0001, C=0.1, score=0.63, total=   0.0s\n",
      "[CV] kernel=rbf, gamma=0.0001, C=0.1 .................................\n",
      "[CV] ...... kernel=rbf, gamma=0.0001, C=0.1, score=0.63, total=   0.0s\n",
      "[CV] kernel=rbf, gamma=1, C=1 ........................................\n",
      "[CV] ............. kernel=rbf, gamma=1, C=1, score=0.65, total=   0.0s\n",
      "[CV] kernel=rbf, gamma=1, C=1 ........................................\n"
     ]
    },
    {
     "name": "stderr",
     "output_type": "stream",
     "text": [
      "[Parallel(n_jobs=1)]: Done   1 out of   1 | elapsed:    0.0s remaining:    0.0s\n",
      "[Parallel(n_jobs=1)]: Done   2 out of   2 | elapsed:    0.0s remaining:    0.0s\n"
     ]
    },
    {
     "name": "stdout",
     "output_type": "stream",
     "text": [
      "[CV] ............. kernel=rbf, gamma=1, C=1, score=0.63, total=   0.0s\n",
      "[CV] kernel=rbf, gamma=1, C=1 ........................................\n",
      "[CV] ............. kernel=rbf, gamma=1, C=1, score=0.65, total=   0.0s\n",
      "[CV] kernel=rbf, gamma=0.1, C=1 ......................................\n",
      "[CV] ........... kernel=rbf, gamma=0.1, C=1, score=0.66, total=   0.0s\n",
      "[CV] kernel=rbf, gamma=0.1, C=1 ......................................\n",
      "[CV] ........... kernel=rbf, gamma=0.1, C=1, score=0.65, total=   0.0s\n",
      "[CV] kernel=rbf, gamma=0.1, C=1 ......................................\n",
      "[CV] ........... kernel=rbf, gamma=0.1, C=1, score=0.71, total=   0.0s\n",
      "[CV] kernel=rbf, gamma=0.01, C=1 .....................................\n",
      "[CV] .......... kernel=rbf, gamma=0.01, C=1, score=0.66, total=   0.0s\n",
      "[CV] kernel=rbf, gamma=0.01, C=1 .....................................\n",
      "[CV] ........... kernel=rbf, gamma=0.01, C=1, score=0.7, total=   0.0s\n",
      "[CV] kernel=rbf, gamma=0.01, C=1 .....................................\n",
      "[CV] .......... kernel=rbf, gamma=0.01, C=1, score=0.74, total=   0.0s\n",
      "[CV] kernel=rbf, gamma=0.001, C=1 ....................................\n",
      "[CV] ......... kernel=rbf, gamma=0.001, C=1, score=0.62, total=   0.0s\n",
      "[CV] kernel=rbf, gamma=0.001, C=1 ....................................\n",
      "[CV] ......... kernel=rbf, gamma=0.001, C=1, score=0.66, total=   0.0s\n",
      "[CV] kernel=rbf, gamma=0.001, C=1 ....................................\n",
      "[CV] .......... kernel=rbf, gamma=0.001, C=1, score=0.7, total=   0.0s\n",
      "[CV] kernel=rbf, gamma=0.0001, C=1 ...................................\n",
      "[CV] ......... kernel=rbf, gamma=0.0001, C=1, score=0.6, total=   0.0s\n",
      "[CV] kernel=rbf, gamma=0.0001, C=1 ...................................\n",
      "[CV] ........ kernel=rbf, gamma=0.0001, C=1, score=0.65, total=   0.0s\n",
      "[CV] kernel=rbf, gamma=0.0001, C=1 ...................................\n",
      "[CV] ........ kernel=rbf, gamma=0.0001, C=1, score=0.66, total=   0.0s\n",
      "[CV] kernel=rbf, gamma=1, C=10 .......................................\n",
      "[CV] ............ kernel=rbf, gamma=1, C=10, score=0.65, total=   0.0s\n",
      "[CV] kernel=rbf, gamma=1, C=10 .......................................\n",
      "[CV] ............ kernel=rbf, gamma=1, C=10, score=0.63, total=   0.0s\n",
      "[CV] kernel=rbf, gamma=1, C=10 .......................................\n",
      "[CV] ............ kernel=rbf, gamma=1, C=10, score=0.65, total=   0.0s\n",
      "[CV] kernel=rbf, gamma=0.1, C=10 .....................................\n",
      "[CV] .......... kernel=rbf, gamma=0.1, C=10, score=0.64, total=   0.0s\n",
      "[CV] kernel=rbf, gamma=0.1, C=10 .....................................\n",
      "[CV] .......... kernel=rbf, gamma=0.1, C=10, score=0.64, total=   0.0s\n",
      "[CV] kernel=rbf, gamma=0.1, C=10 .....................................\n",
      "[CV] .......... kernel=rbf, gamma=0.1, C=10, score=0.69, total=   0.0s\n",
      "[CV] kernel=rbf, gamma=0.01, C=10 ....................................\n",
      "[CV] ......... kernel=rbf, gamma=0.01, C=10, score=0.66, total=   0.0s\n",
      "[CV] kernel=rbf, gamma=0.01, C=10 ....................................\n",
      "[CV] ......... kernel=rbf, gamma=0.01, C=10, score=0.69, total=   0.0s\n",
      "[CV] kernel=rbf, gamma=0.01, C=10 ....................................\n",
      "[CV] ......... kernel=rbf, gamma=0.01, C=10, score=0.73, total=   0.0s\n",
      "[CV] kernel=rbf, gamma=0.001, C=10 ...................................\n",
      "[CV] ........ kernel=rbf, gamma=0.001, C=10, score=0.62, total=   0.0s\n",
      "[CV] kernel=rbf, gamma=0.001, C=10 ...................................\n",
      "[CV] ........ kernel=rbf, gamma=0.001, C=10, score=0.69, total=   0.0s\n",
      "[CV] kernel=rbf, gamma=0.001, C=10 ...................................\n",
      "[CV] ........ kernel=rbf, gamma=0.001, C=10, score=0.71, total=   0.0s\n",
      "[CV] kernel=rbf, gamma=0.0001, C=10 ..................................\n",
      "[CV] ....... kernel=rbf, gamma=0.0001, C=10, score=0.62, total=   0.0s\n",
      "[CV] kernel=rbf, gamma=0.0001, C=10 ..................................\n",
      "[CV] ....... kernel=rbf, gamma=0.0001, C=10, score=0.65, total=   0.0s\n",
      "[CV] kernel=rbf, gamma=0.0001, C=10 ..................................\n",
      "[CV] ....... kernel=rbf, gamma=0.0001, C=10, score=0.72, total=   0.0s\n",
      "[CV] kernel=rbf, gamma=1, C=100 ......................................\n",
      "[CV] ........... kernel=rbf, gamma=1, C=100, score=0.65, total=   0.0s\n",
      "[CV] kernel=rbf, gamma=1, C=100 ......................................\n",
      "[CV] ........... kernel=rbf, gamma=1, C=100, score=0.63, total=   0.0s\n",
      "[CV] kernel=rbf, gamma=1, C=100 ......................................\n",
      "[CV] ........... kernel=rbf, gamma=1, C=100, score=0.65, total=   0.0s\n",
      "[CV] kernel=rbf, gamma=0.1, C=100 ....................................\n",
      "[CV] ......... kernel=rbf, gamma=0.1, C=100, score=0.64, total=   0.0s\n",
      "[CV] kernel=rbf, gamma=0.1, C=100 ....................................\n",
      "[CV] ......... kernel=rbf, gamma=0.1, C=100, score=0.64, total=   0.0s\n",
      "[CV] kernel=rbf, gamma=0.1, C=100 ....................................\n",
      "[CV] ......... kernel=rbf, gamma=0.1, C=100, score=0.69, total=   0.0s\n",
      "[CV] kernel=rbf, gamma=0.01, C=100 ...................................\n",
      "[CV] ........ kernel=rbf, gamma=0.01, C=100, score=0.65, total=   0.0s\n",
      "[CV] kernel=rbf, gamma=0.01, C=100 ...................................\n",
      "[CV] ........ kernel=rbf, gamma=0.01, C=100, score=0.69, total=   0.0s\n",
      "[CV] kernel=rbf, gamma=0.01, C=100 ...................................\n",
      "[CV] ........ kernel=rbf, gamma=0.01, C=100, score=0.72, total=   0.0s\n",
      "[CV] kernel=rbf, gamma=0.001, C=100 ..................................\n",
      "[CV] ....... kernel=rbf, gamma=0.001, C=100, score=0.62, total=   0.0s\n",
      "[CV] kernel=rbf, gamma=0.001, C=100 ..................................\n",
      "[CV] ....... kernel=rbf, gamma=0.001, C=100, score=0.68, total=   0.0s\n",
      "[CV] kernel=rbf, gamma=0.001, C=100 ..................................\n",
      "[CV] ....... kernel=rbf, gamma=0.001, C=100, score=0.69, total=   0.0s\n",
      "[CV] kernel=rbf, gamma=0.0001, C=100 .................................\n",
      "[CV] ...... kernel=rbf, gamma=0.0001, C=100, score=0.62, total=   0.0s\n",
      "[CV] kernel=rbf, gamma=0.0001, C=100 .................................\n",
      "[CV] ...... kernel=rbf, gamma=0.0001, C=100, score=0.69, total=   0.0s\n",
      "[CV] kernel=rbf, gamma=0.0001, C=100 .................................\n",
      "[CV] ...... kernel=rbf, gamma=0.0001, C=100, score=0.69, total=   0.0s\n",
      "[CV] kernel=rbf, gamma=1, C=1000 .....................................\n",
      "[CV] .......... kernel=rbf, gamma=1, C=1000, score=0.65, total=   0.0s\n",
      "[CV] kernel=rbf, gamma=1, C=1000 .....................................\n",
      "[CV] .......... kernel=rbf, gamma=1, C=1000, score=0.63, total=   0.0s\n",
      "[CV] kernel=rbf, gamma=1, C=1000 .....................................\n",
      "[CV] .......... kernel=rbf, gamma=1, C=1000, score=0.65, total=   0.0s\n",
      "[CV] kernel=rbf, gamma=0.1, C=1000 ...................................\n",
      "[CV] ........ kernel=rbf, gamma=0.1, C=1000, score=0.64, total=   0.0s\n",
      "[CV] kernel=rbf, gamma=0.1, C=1000 ...................................\n",
      "[CV] ........ kernel=rbf, gamma=0.1, C=1000, score=0.64, total=   0.0s\n",
      "[CV] kernel=rbf, gamma=0.1, C=1000 ...................................\n",
      "[CV] ........ kernel=rbf, gamma=0.1, C=1000, score=0.69, total=   0.0s\n",
      "[CV] kernel=rbf, gamma=0.01, C=1000 ..................................\n",
      "[CV] ....... kernel=rbf, gamma=0.01, C=1000, score=0.64, total=   0.0s\n",
      "[CV] kernel=rbf, gamma=0.01, C=1000 ..................................\n",
      "[CV] ....... kernel=rbf, gamma=0.01, C=1000, score=0.69, total=   0.0s\n",
      "[CV] kernel=rbf, gamma=0.01, C=1000 ..................................\n",
      "[CV] ....... kernel=rbf, gamma=0.01, C=1000, score=0.72, total=   0.0s\n",
      "[CV] kernel=rbf, gamma=0.001, C=1000 .................................\n",
      "[CV] ...... kernel=rbf, gamma=0.001, C=1000, score=0.61, total=   0.0s\n",
      "[CV] kernel=rbf, gamma=0.001, C=1000 .................................\n",
      "[CV] ...... kernel=rbf, gamma=0.001, C=1000, score=0.68, total=   0.0s\n",
      "[CV] kernel=rbf, gamma=0.001, C=1000 .................................\n",
      "[CV] ...... kernel=rbf, gamma=0.001, C=1000, score=0.68, total=   0.0s\n",
      "[CV] kernel=rbf, gamma=0.0001, C=1000 ................................\n",
      "[CV] ..... kernel=rbf, gamma=0.0001, C=1000, score=0.62, total=   0.0s\n",
      "[CV] kernel=rbf, gamma=0.0001, C=1000 ................................\n",
      "[CV] ..... kernel=rbf, gamma=0.0001, C=1000, score=0.68, total=   0.0s\n",
      "[CV] kernel=rbf, gamma=0.0001, C=1000 ................................\n",
      "[CV] ..... kernel=rbf, gamma=0.0001, C=1000, score=0.69, total=   0.0s\n"
     ]
    },
    {
     "name": "stderr",
     "output_type": "stream",
     "text": [
      "[Parallel(n_jobs=1)]: Done  75 out of  75 | elapsed:    0.9s finished\n"
     ]
    },
    {
     "data": {
      "text/plain": [
       "GridSearchCV(cv=None, error_score='raise',\n",
       "       estimator=SVC(C=1.0, cache_size=200, class_weight=None, coef0=0.0,\n",
       "  decision_function_shape='ovr', degree=3, gamma='auto', kernel='rbf',\n",
       "  max_iter=-1, probability=False, random_state=None, shrinking=True,\n",
       "  tol=0.001, verbose=False),\n",
       "       fit_params=None, iid=True, n_jobs=1,\n",
       "       param_grid={'kernel': ['rbf'], 'gamma': [1, 0.1, 0.01, 0.001, 0.0001], 'C': [0.1, 1, 10, 100, 1000]},\n",
       "       pre_dispatch='2*n_jobs', refit=True, return_train_score='warn',\n",
       "       scoring=None, verbose=3)"
      ]
     },
     "execution_count": 30,
     "metadata": {},
     "output_type": "execute_result"
    }
   ],
   "source": [
    "grid.fit(X_train,y_train)"
   ]
  },
  {
   "cell_type": "markdown",
   "metadata": {
    "deletable": true,
    "editable": true
   },
   "source": [
    "You can inspect the best parameters found by GridSearchCV in the best_params_ attribute, and the best estimator in the best\\_estimator_ attribute:"
   ]
  },
  {
   "cell_type": "code",
   "execution_count": 31,
   "metadata": {
    "collapsed": false,
    "deletable": true,
    "editable": true
   },
   "outputs": [
    {
     "data": {
      "text/plain": [
       "{'C': 1, 'gamma': 0.01, 'kernel': 'rbf'}"
      ]
     },
     "execution_count": 31,
     "metadata": {},
     "output_type": "execute_result"
    }
   ],
   "source": [
    "grid.best_params_"
   ]
  },
  {
   "cell_type": "code",
   "execution_count": 32,
   "metadata": {
    "collapsed": false,
    "deletable": true,
    "editable": true
   },
   "outputs": [
    {
     "data": {
      "text/plain": [
       "SVC(C=1, cache_size=200, class_weight=None, coef0=0.0,\n",
       "  decision_function_shape='ovr', degree=3, gamma=0.01, kernel='rbf',\n",
       "  max_iter=-1, probability=False, random_state=None, shrinking=True,\n",
       "  tol=0.001, verbose=False)"
      ]
     },
     "execution_count": 32,
     "metadata": {},
     "output_type": "execute_result"
    }
   ],
   "source": [
    "grid.best_estimator_"
   ]
  },
  {
   "cell_type": "code",
   "execution_count": 33,
   "metadata": {
    "collapsed": true,
    "deletable": true,
    "editable": true
   },
   "outputs": [],
   "source": [
    "grid_predictions = grid.predict(X_test)"
   ]
  },
  {
   "cell_type": "code",
   "execution_count": 34,
   "metadata": {
    "collapsed": false,
    "deletable": true,
    "editable": true
   },
   "outputs": [
    {
     "name": "stdout",
     "output_type": "stream",
     "text": [
      "[[65  3]\n",
      " [15 17]]\n"
     ]
    }
   ],
   "source": [
    "print(confusion_matrix(y_test,grid_predictions))"
   ]
  },
  {
   "cell_type": "code",
   "execution_count": 35,
   "metadata": {
    "collapsed": false,
    "deletable": true,
    "editable": true
   },
   "outputs": [
    {
     "name": "stdout",
     "output_type": "stream",
     "text": [
      "             precision    recall  f1-score   support\n",
      "\n",
      "          0       0.81      0.96      0.88        68\n",
      "          1       0.85      0.53      0.65        32\n",
      "\n",
      "avg / total       0.82      0.82      0.81       100\n",
      "\n"
     ]
    }
   ],
   "source": [
    "print(classification_report(y_test,grid_predictions))"
   ]
  },
  {
   "cell_type": "markdown",
   "metadata": {
    "deletable": true,
    "editable": true
   },
   "source": [
    "These results are much better! I will also try sigmoid and poly kernel types since they also take gamma."
   ]
  },
  {
   "cell_type": "markdown",
   "metadata": {
    "deletable": true,
    "editable": true
   },
   "source": [
    "## Gridsearch- Poly"
   ]
  },
  {
   "cell_type": "markdown",
   "metadata": {},
   "source": [
    "Note: Tried this, but it was very slow so probably not the right parameters to try!"
   ]
  },
  {
   "cell_type": "code",
   "execution_count": 36,
   "metadata": {
    "collapsed": true,
    "deletable": true,
    "editable": true
   },
   "outputs": [],
   "source": [
    "##param_grid = {'C': [0.1,1, 10, 100, 1000], 'gamma': [1,0.1,0.01,0.001,0.0001], 'kernel': ['poly']} "
   ]
  },
  {
   "cell_type": "code",
   "execution_count": 37,
   "metadata": {
    "collapsed": true,
    "deletable": true,
    "editable": true
   },
   "outputs": [],
   "source": [
    "##from sklearn.model_selection import GridSearchCV"
   ]
  },
  {
   "cell_type": "code",
   "execution_count": 38,
   "metadata": {
    "collapsed": true,
    "deletable": true,
    "editable": true
   },
   "outputs": [],
   "source": [
    "##grid2 = GridSearchCV(SVC(),param_grid,refit=True,verbose=3)"
   ]
  },
  {
   "cell_type": "code",
   "execution_count": 39,
   "metadata": {
    "collapsed": false,
    "deletable": true,
    "editable": true
   },
   "outputs": [],
   "source": [
    "##grid2.fit(X_train,y_train)"
   ]
  },
  {
   "cell_type": "code",
   "execution_count": 40,
   "metadata": {
    "collapsed": true,
    "deletable": true,
    "editable": true
   },
   "outputs": [],
   "source": [
    "##grid2.best_params_"
   ]
  },
  {
   "cell_type": "code",
   "execution_count": 41,
   "metadata": {
    "collapsed": true,
    "deletable": true,
    "editable": true
   },
   "outputs": [],
   "source": [
    "##grid2.best_estimator_"
   ]
  },
  {
   "cell_type": "code",
   "execution_count": 42,
   "metadata": {
    "collapsed": true,
    "deletable": true,
    "editable": true
   },
   "outputs": [],
   "source": [
    "##grid2_predictions = grid.predict(X_test)"
   ]
  },
  {
   "cell_type": "code",
   "execution_count": 43,
   "metadata": {
    "collapsed": true,
    "deletable": true,
    "editable": true
   },
   "outputs": [],
   "source": [
    "##print(confusion_matrix(y_test,grid2_predictions))"
   ]
  },
  {
   "cell_type": "code",
   "execution_count": 44,
   "metadata": {
    "collapsed": true,
    "deletable": true,
    "editable": true
   },
   "outputs": [],
   "source": [
    "##print(classification_report(y_test,grid2_predictions))"
   ]
  },
  {
   "cell_type": "markdown",
   "metadata": {
    "deletable": true,
    "editable": true
   },
   "source": [
    "## Gridsearch- Sigmoid"
   ]
  },
  {
   "cell_type": "code",
   "execution_count": 45,
   "metadata": {
    "collapsed": true,
    "deletable": true,
    "editable": true
   },
   "outputs": [],
   "source": [
    "param_grid = {'C': [0.1,1, 10, 100, 1000], 'gamma': [1,0.1,0.01,0.001,0.0001], 'kernel': ['sigmoid']} "
   ]
  },
  {
   "cell_type": "code",
   "execution_count": 46,
   "metadata": {
    "collapsed": true,
    "deletable": true,
    "editable": true
   },
   "outputs": [],
   "source": [
    "from sklearn.model_selection import GridSearchCV"
   ]
  },
  {
   "cell_type": "code",
   "execution_count": 47,
   "metadata": {
    "collapsed": false,
    "deletable": true,
    "editable": true
   },
   "outputs": [],
   "source": [
    "grid3 = GridSearchCV(SVC(),param_grid,refit=True,verbose=3)"
   ]
  },
  {
   "cell_type": "code",
   "execution_count": 48,
   "metadata": {
    "collapsed": false,
    "deletable": true,
    "editable": true
   },
   "outputs": [
    {
     "name": "stdout",
     "output_type": "stream",
     "text": [
      "Fitting 3 folds for each of 25 candidates, totalling 75 fits\n",
      "[CV] kernel=sigmoid, gamma=1, C=0.1 ..................................\n",
      "[CV] ....... kernel=sigmoid, gamma=1, C=0.1, score=0.63, total=   0.0s\n",
      "[CV] kernel=sigmoid, gamma=1, C=0.1 ..................................\n",
      "[CV] ....... kernel=sigmoid, gamma=1, C=0.1, score=0.63, total=   0.0s\n",
      "[CV] kernel=sigmoid, gamma=1, C=0.1 ..................................\n",
      "[CV] ....... kernel=sigmoid, gamma=1, C=0.1, score=0.63, total=   0.0s\n",
      "[CV] kernel=sigmoid, gamma=0.1, C=0.1 ................................\n",
      "[CV] ..... kernel=sigmoid, gamma=0.1, C=0.1, score=0.63, total=   0.0s\n",
      "[CV] kernel=sigmoid, gamma=0.1, C=0.1 ................................\n",
      "[CV] ..... kernel=sigmoid, gamma=0.1, C=0.1, score=0.63, total=   0.0s\n",
      "[CV] kernel=sigmoid, gamma=0.1, C=0.1 ................................\n",
      "[CV] ..... kernel=sigmoid, gamma=0.1, C=0.1, score=0.63, total=   0.0s\n",
      "[CV] kernel=sigmoid, gamma=0.01, C=0.1 ...............................\n",
      "[CV] .... kernel=sigmoid, gamma=0.01, C=0.1, score=0.63, total=   0.0s\n",
      "[CV] kernel=sigmoid, gamma=0.01, C=0.1 ...............................\n",
      "[CV] .... kernel=sigmoid, gamma=0.01, C=0.1, score=0.63, total=   0.0s\n",
      "[CV] kernel=sigmoid, gamma=0.01, C=0.1 ...............................\n",
      "[CV] .... kernel=sigmoid, gamma=0.01, C=0.1, score=0.63, total=   0.0s\n",
      "[CV] kernel=sigmoid, gamma=0.001, C=0.1 ..............................\n",
      "[CV] ... kernel=sigmoid, gamma=0.001, C=0.1, score=0.63, total=   0.0s\n",
      "[CV] kernel=sigmoid, gamma=0.001, C=0.1 ..............................\n",
      "[CV] ... kernel=sigmoid, gamma=0.001, C=0.1, score=0.63, total=   0.0s\n",
      "[CV] kernel=sigmoid, gamma=0.001, C=0.1 ..............................\n",
      "[CV] ... kernel=sigmoid, gamma=0.001, C=0.1, score=0.63, total=   0.0s\n",
      "[CV] kernel=sigmoid, gamma=0.0001, C=0.1 .............................\n",
      "[CV] .. kernel=sigmoid, gamma=0.0001, C=0.1, score=0.63, total=   0.0s\n",
      "[CV] kernel=sigmoid, gamma=0.0001, C=0.1 .............................\n",
      "[CV] .. kernel=sigmoid, gamma=0.0001, C=0.1, score=0.63, total=   0.0s\n",
      "[CV] kernel=sigmoid, gamma=0.0001, C=0.1 .............................\n",
      "[CV] .. kernel=sigmoid, gamma=0.0001, C=0.1, score=0.63, total=   0.0s\n",
      "[CV] kernel=sigmoid, gamma=1, C=1 ....................................\n",
      "[CV] ......... kernel=sigmoid, gamma=1, C=1, score=0.63, total=   0.0s\n",
      "[CV] kernel=sigmoid, gamma=1, C=1 ....................................\n",
      "[CV] ......... kernel=sigmoid, gamma=1, C=1, score=0.63, total=   0.0s\n",
      "[CV] kernel=sigmoid, gamma=1, C=1 ....................................\n",
      "[CV] ......... kernel=sigmoid, gamma=1, C=1, score=0.63, total=   0.0s\n",
      "[CV] kernel=sigmoid, gamma=0.1, C=1 ..................................\n",
      "[CV] ....... kernel=sigmoid, gamma=0.1, C=1, score=0.63, total=   0.0s\n",
      "[CV] kernel=sigmoid, gamma=0.1, C=1 ..................................\n",
      "[CV] ....... kernel=sigmoid, gamma=0.1, C=1, score=0.63, total=   0.0s\n",
      "[CV] kernel=sigmoid, gamma=0.1, C=1 ..................................\n",
      "[CV] ....... kernel=sigmoid, gamma=0.1, C=1, score=0.63, total=   0.0s\n",
      "[CV] kernel=sigmoid, gamma=0.01, C=1 .................................\n",
      "[CV] ...... kernel=sigmoid, gamma=0.01, C=1, score=0.63, total=   0.0s\n",
      "[CV] kernel=sigmoid, gamma=0.01, C=1 .................................\n",
      "[CV] ...... kernel=sigmoid, gamma=0.01, C=1, score=0.63, total=   0.0s\n",
      "[CV] kernel=sigmoid, gamma=0.01, C=1 .................................\n",
      "[CV] ...... kernel=sigmoid, gamma=0.01, C=1, score=0.63, total=   0.0s\n",
      "[CV] kernel=sigmoid, gamma=0.001, C=1 ................................\n",
      "[CV] ..... kernel=sigmoid, gamma=0.001, C=1, score=0.63, total=   0.0s\n",
      "[CV] kernel=sigmoid, gamma=0.001, C=1 ................................\n",
      "[CV] ..... kernel=sigmoid, gamma=0.001, C=1, score=0.63, total=   0.0s\n",
      "[CV] kernel=sigmoid, gamma=0.001, C=1 ................................\n",
      "[CV] ..... kernel=sigmoid, gamma=0.001, C=1, score=0.63, total=   0.0s\n",
      "[CV] kernel=sigmoid, gamma=0.0001, C=1 ...............................\n",
      "[CV] .... kernel=sigmoid, gamma=0.0001, C=1, score=0.63, total=   0.0s\n",
      "[CV] kernel=sigmoid, gamma=0.0001, C=1 ...............................\n",
      "[CV] .... kernel=sigmoid, gamma=0.0001, C=1, score=0.63, total=   0.0s\n",
      "[CV] kernel=sigmoid, gamma=0.0001, C=1 ...............................\n",
      "[CV] .... kernel=sigmoid, gamma=0.0001, C=1, score=0.63, total=   0.0s"
     ]
    },
    {
     "name": "stderr",
     "output_type": "stream",
     "text": [
      "[Parallel(n_jobs=1)]: Done   1 out of   1 | elapsed:    0.0s remaining:    0.0s\n",
      "[Parallel(n_jobs=1)]: Done   2 out of   2 | elapsed:    0.0s remaining:    0.0s\n"
     ]
    },
    {
     "name": "stdout",
     "output_type": "stream",
     "text": [
      "\n",
      "[CV] kernel=sigmoid, gamma=1, C=10 ...................................\n",
      "[CV] ........ kernel=sigmoid, gamma=1, C=10, score=0.63, total=   0.0s\n",
      "[CV] kernel=sigmoid, gamma=1, C=10 ...................................\n",
      "[CV] ........ kernel=sigmoid, gamma=1, C=10, score=0.63, total=   0.0s\n",
      "[CV] kernel=sigmoid, gamma=1, C=10 ...................................\n",
      "[CV] ........ kernel=sigmoid, gamma=1, C=10, score=0.63, total=   0.0s\n",
      "[CV] kernel=sigmoid, gamma=0.1, C=10 .................................\n",
      "[CV] ...... kernel=sigmoid, gamma=0.1, C=10, score=0.63, total=   0.0s\n",
      "[CV] kernel=sigmoid, gamma=0.1, C=10 .................................\n",
      "[CV] ...... kernel=sigmoid, gamma=0.1, C=10, score=0.63, total=   0.0s\n",
      "[CV] kernel=sigmoid, gamma=0.1, C=10 .................................\n",
      "[CV] ...... kernel=sigmoid, gamma=0.1, C=10, score=0.63, total=   0.0s\n",
      "[CV] kernel=sigmoid, gamma=0.01, C=10 ................................\n",
      "[CV] ..... kernel=sigmoid, gamma=0.01, C=10, score=0.63, total=   0.0s\n",
      "[CV] kernel=sigmoid, gamma=0.01, C=10 ................................\n",
      "[CV] ..... kernel=sigmoid, gamma=0.01, C=10, score=0.63, total=   0.0s\n",
      "[CV] kernel=sigmoid, gamma=0.01, C=10 ................................\n",
      "[CV] ..... kernel=sigmoid, gamma=0.01, C=10, score=0.63, total=   0.0s\n",
      "[CV] kernel=sigmoid, gamma=0.001, C=10 ...............................\n",
      "[CV] .... kernel=sigmoid, gamma=0.001, C=10, score=0.63, total=   0.0s\n",
      "[CV] kernel=sigmoid, gamma=0.001, C=10 ...............................\n",
      "[CV] .... kernel=sigmoid, gamma=0.001, C=10, score=0.63, total=   0.0s\n",
      "[CV] kernel=sigmoid, gamma=0.001, C=10 ...............................\n",
      "[CV] .... kernel=sigmoid, gamma=0.001, C=10, score=0.63, total=   0.0s\n",
      "[CV] kernel=sigmoid, gamma=0.0001, C=10 ..............................\n",
      "[CV] ... kernel=sigmoid, gamma=0.0001, C=10, score=0.63, total=   0.0s\n",
      "[CV] kernel=sigmoid, gamma=0.0001, C=10 ..............................\n",
      "[CV] ... kernel=sigmoid, gamma=0.0001, C=10, score=0.63, total=   0.0s\n",
      "[CV] kernel=sigmoid, gamma=0.0001, C=10 ..............................\n",
      "[CV] ... kernel=sigmoid, gamma=0.0001, C=10, score=0.63, total=   0.0s\n",
      "[CV] kernel=sigmoid, gamma=1, C=100 ..................................\n",
      "[CV] ....... kernel=sigmoid, gamma=1, C=100, score=0.63, total=   0.0s\n",
      "[CV] kernel=sigmoid, gamma=1, C=100 ..................................\n",
      "[CV] ....... kernel=sigmoid, gamma=1, C=100, score=0.63, total=   0.0s\n",
      "[CV] kernel=sigmoid, gamma=1, C=100 ..................................\n",
      "[CV] ....... kernel=sigmoid, gamma=1, C=100, score=0.63, total=   0.0s\n",
      "[CV] kernel=sigmoid, gamma=0.1, C=100 ................................\n",
      "[CV] ..... kernel=sigmoid, gamma=0.1, C=100, score=0.63, total=   0.0s\n",
      "[CV] kernel=sigmoid, gamma=0.1, C=100 ................................\n",
      "[CV] ..... kernel=sigmoid, gamma=0.1, C=100, score=0.63, total=   0.0s\n",
      "[CV] kernel=sigmoid, gamma=0.1, C=100 ................................\n",
      "[CV] ..... kernel=sigmoid, gamma=0.1, C=100, score=0.63, total=   0.0s\n",
      "[CV] kernel=sigmoid, gamma=0.01, C=100 ...............................\n",
      "[CV] .... kernel=sigmoid, gamma=0.01, C=100, score=0.63, total=   0.0s\n",
      "[CV] kernel=sigmoid, gamma=0.01, C=100 ...............................\n",
      "[CV] .... kernel=sigmoid, gamma=0.01, C=100, score=0.63, total=   0.0s\n",
      "[CV] kernel=sigmoid, gamma=0.01, C=100 ...............................\n",
      "[CV] .... kernel=sigmoid, gamma=0.01, C=100, score=0.63, total=   0.0s\n",
      "[CV] kernel=sigmoid, gamma=0.001, C=100 ..............................\n",
      "[CV] ... kernel=sigmoid, gamma=0.001, C=100, score=0.63, total=   0.0s\n",
      "[CV] kernel=sigmoid, gamma=0.001, C=100 ..............................\n",
      "[CV] ... kernel=sigmoid, gamma=0.001, C=100, score=0.63, total=   0.0s\n",
      "[CV] kernel=sigmoid, gamma=0.001, C=100 ..............................\n",
      "[CV] ... kernel=sigmoid, gamma=0.001, C=100, score=0.63, total=   0.0s\n",
      "[CV] kernel=sigmoid, gamma=0.0001, C=100 .............................\n",
      "[CV] .. kernel=sigmoid, gamma=0.0001, C=100, score=0.63, total=   0.0s\n",
      "[CV] kernel=sigmoid, gamma=0.0001, C=100 .............................\n",
      "[CV] .. kernel=sigmoid, gamma=0.0001, C=100, score=0.63, total=   0.0s\n",
      "[CV] kernel=sigmoid, gamma=0.0001, C=100 .............................\n",
      "[CV] .. kernel=sigmoid, gamma=0.0001, C=100, score=0.63, total=   0.0s\n",
      "[CV] kernel=sigmoid, gamma=1, C=1000 .................................\n",
      "[CV] ...... kernel=sigmoid, gamma=1, C=1000, score=0.63, total=   0.0s\n",
      "[CV] kernel=sigmoid, gamma=1, C=1000 .................................\n",
      "[CV] ...... kernel=sigmoid, gamma=1, C=1000, score=0.63, total=   0.0s\n",
      "[CV] kernel=sigmoid, gamma=1, C=1000 .................................\n",
      "[CV] ...... kernel=sigmoid, gamma=1, C=1000, score=0.63, total=   0.0s\n",
      "[CV] kernel=sigmoid, gamma=0.1, C=1000 ...............................\n",
      "[CV] .... kernel=sigmoid, gamma=0.1, C=1000, score=0.63, total=   0.0s\n",
      "[CV] kernel=sigmoid, gamma=0.1, C=1000 ...............................\n",
      "[CV] .... kernel=sigmoid, gamma=0.1, C=1000, score=0.63, total=   0.0s\n",
      "[CV] kernel=sigmoid, gamma=0.1, C=1000 ...............................\n",
      "[CV] .... kernel=sigmoid, gamma=0.1, C=1000, score=0.63, total=   0.0s\n",
      "[CV] kernel=sigmoid, gamma=0.01, C=1000 ..............................\n",
      "[CV] ... kernel=sigmoid, gamma=0.01, C=1000, score=0.63, total=   0.0s\n",
      "[CV] kernel=sigmoid, gamma=0.01, C=1000 ..............................\n",
      "[CV] ... kernel=sigmoid, gamma=0.01, C=1000, score=0.63, total=   0.0s\n",
      "[CV] kernel=sigmoid, gamma=0.01, C=1000 ..............................\n",
      "[CV] ... kernel=sigmoid, gamma=0.01, C=1000, score=0.63, total=   0.0s\n",
      "[CV] kernel=sigmoid, gamma=0.001, C=1000 .............................\n",
      "[CV] .. kernel=sigmoid, gamma=0.001, C=1000, score=0.63, total=   0.0s\n",
      "[CV] kernel=sigmoid, gamma=0.001, C=1000 .............................\n",
      "[CV] .. kernel=sigmoid, gamma=0.001, C=1000, score=0.63, total=   0.0s\n",
      "[CV] kernel=sigmoid, gamma=0.001, C=1000 .............................\n",
      "[CV] .. kernel=sigmoid, gamma=0.001, C=1000, score=0.63, total=   0.0s\n",
      "[CV] kernel=sigmoid, gamma=0.0001, C=1000 ............................\n",
      "[CV] . kernel=sigmoid, gamma=0.0001, C=1000, score=0.63, total=   0.0s\n",
      "[CV] kernel=sigmoid, gamma=0.0001, C=1000 ............................\n",
      "[CV] . kernel=sigmoid, gamma=0.0001, C=1000, score=0.63, total=   0.0s\n",
      "[CV] kernel=sigmoid, gamma=0.0001, C=1000 ............................\n",
      "[CV] . kernel=sigmoid, gamma=0.0001, C=1000, score=0.63, total=   0.0s\n"
     ]
    },
    {
     "name": "stderr",
     "output_type": "stream",
     "text": [
      "[Parallel(n_jobs=1)]: Done  75 out of  75 | elapsed:    0.3s finished\n"
     ]
    },
    {
     "data": {
      "text/plain": [
       "GridSearchCV(cv=None, error_score='raise',\n",
       "       estimator=SVC(C=1.0, cache_size=200, class_weight=None, coef0=0.0,\n",
       "  decision_function_shape='ovr', degree=3, gamma='auto', kernel='rbf',\n",
       "  max_iter=-1, probability=False, random_state=None, shrinking=True,\n",
       "  tol=0.001, verbose=False),\n",
       "       fit_params=None, iid=True, n_jobs=1,\n",
       "       param_grid={'kernel': ['sigmoid'], 'gamma': [1, 0.1, 0.01, 0.001, 0.0001], 'C': [0.1, 1, 10, 100, 1000]},\n",
       "       pre_dispatch='2*n_jobs', refit=True, return_train_score='warn',\n",
       "       scoring=None, verbose=3)"
      ]
     },
     "execution_count": 48,
     "metadata": {},
     "output_type": "execute_result"
    }
   ],
   "source": [
    "grid3.fit(X_train,y_train)"
   ]
  },
  {
   "cell_type": "code",
   "execution_count": 49,
   "metadata": {
    "collapsed": false,
    "deletable": true,
    "editable": true
   },
   "outputs": [
    {
     "data": {
      "text/plain": [
       "{'C': 0.1, 'gamma': 1, 'kernel': 'sigmoid'}"
      ]
     },
     "execution_count": 49,
     "metadata": {},
     "output_type": "execute_result"
    }
   ],
   "source": [
    "grid3.best_params_"
   ]
  },
  {
   "cell_type": "code",
   "execution_count": 50,
   "metadata": {
    "collapsed": false,
    "deletable": true,
    "editable": true
   },
   "outputs": [
    {
     "data": {
      "text/plain": [
       "SVC(C=0.1, cache_size=200, class_weight=None, coef0=0.0,\n",
       "  decision_function_shape='ovr', degree=3, gamma=1, kernel='sigmoid',\n",
       "  max_iter=-1, probability=False, random_state=None, shrinking=True,\n",
       "  tol=0.001, verbose=False)"
      ]
     },
     "execution_count": 50,
     "metadata": {},
     "output_type": "execute_result"
    }
   ],
   "source": [
    "grid3.best_estimator_"
   ]
  },
  {
   "cell_type": "code",
   "execution_count": 51,
   "metadata": {
    "collapsed": true,
    "deletable": true,
    "editable": true
   },
   "outputs": [],
   "source": [
    "grid3_predictions = grid.predict(X_test)"
   ]
  },
  {
   "cell_type": "code",
   "execution_count": 52,
   "metadata": {
    "collapsed": false,
    "deletable": true,
    "editable": true
   },
   "outputs": [
    {
     "name": "stdout",
     "output_type": "stream",
     "text": [
      "[[65  3]\n",
      " [15 17]]\n"
     ]
    }
   ],
   "source": [
    "print(confusion_matrix(y_test,grid3_predictions))"
   ]
  },
  {
   "cell_type": "code",
   "execution_count": 53,
   "metadata": {
    "collapsed": false,
    "deletable": true,
    "editable": true
   },
   "outputs": [
    {
     "name": "stdout",
     "output_type": "stream",
     "text": [
      "             precision    recall  f1-score   support\n",
      "\n",
      "          0       0.81      0.96      0.88        68\n",
      "          1       0.85      0.53      0.65        32\n",
      "\n",
      "avg / total       0.82      0.82      0.81       100\n",
      "\n"
     ]
    }
   ],
   "source": [
    "print(classification_report(y_test,grid3_predictions))"
   ]
  },
  {
   "cell_type": "markdown",
   "metadata": {},
   "source": [
    "Performed very similarly!"
   ]
  },
  {
   "cell_type": "markdown",
   "metadata": {},
   "source": [
    "## Results"
   ]
  },
  {
   "cell_type": "markdown",
   "metadata": {},
   "source": [
    "Either SVM sigmoid with C:0.1 and gamma 1 or SVM rbf with C:1 and gamma 0.1 will produce the best precision and recall outcomes."
   ]
  }
 ],
 "metadata": {
  "kernelspec": {
   "display_name": "Python 3",
   "language": "python",
   "name": "python3"
  },
  "language_info": {
   "codemirror_mode": {
    "name": "ipython",
    "version": 3
   },
   "file_extension": ".py",
   "mimetype": "text/x-python",
   "name": "python",
   "nbconvert_exporter": "python",
   "pygments_lexer": "ipython3",
   "version": "3.5.2"
  }
 },
 "nbformat": 4,
 "nbformat_minor": 1
}
