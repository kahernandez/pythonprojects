{
 "cells": [
  {
   "cell_type": "code",
   "execution_count": 130,
   "metadata": {
    "collapsed": true,
    "deletable": true,
    "editable": true
   },
   "outputs": [],
   "source": [
    "import numpy as np\n",
    "import matplotlib.pyplot as plt\n",
    "import pandas as pd"
   ]
  },
  {
   "cell_type": "code",
   "execution_count": 131,
   "metadata": {
    "collapsed": true,
    "deletable": true,
    "editable": true
   },
   "outputs": [],
   "source": [
    "#import data\n",
    "dataset = pd.read_csv('IBM.csv')"
   ]
  },
  {
   "cell_type": "code",
   "execution_count": 132,
   "metadata": {
    "collapsed": false,
    "deletable": true,
    "editable": true
   },
   "outputs": [
    {
     "data": {
      "text/html": [
       "<div>\n",
       "<style>\n",
       "    .dataframe thead tr:only-child th {\n",
       "        text-align: right;\n",
       "    }\n",
       "\n",
       "    .dataframe thead th {\n",
       "        text-align: left;\n",
       "    }\n",
       "\n",
       "    .dataframe tbody tr th {\n",
       "        vertical-align: top;\n",
       "    }\n",
       "</style>\n",
       "<table border=\"1\" class=\"dataframe\">\n",
       "  <thead>\n",
       "    <tr style=\"text-align: right;\">\n",
       "      <th></th>\n",
       "      <th>Date</th>\n",
       "      <th>Open</th>\n",
       "      <th>High</th>\n",
       "      <th>Low</th>\n",
       "      <th>Close</th>\n",
       "      <th>Adj Close</th>\n",
       "      <th>Volume</th>\n",
       "    </tr>\n",
       "  </thead>\n",
       "  <tbody>\n",
       "    <tr>\n",
       "      <th>0</th>\n",
       "      <td>4/30/2012</td>\n",
       "      <td>206.710007</td>\n",
       "      <td>207.960007</td>\n",
       "      <td>206.320007</td>\n",
       "      <td>207.080002</td>\n",
       "      <td>171.139999</td>\n",
       "      <td>2773200</td>\n",
       "    </tr>\n",
       "    <tr>\n",
       "      <th>1</th>\n",
       "      <td>5/1/2012</td>\n",
       "      <td>207.179993</td>\n",
       "      <td>208.929993</td>\n",
       "      <td>206.710007</td>\n",
       "      <td>208.000000</td>\n",
       "      <td>171.900360</td>\n",
       "      <td>2715900</td>\n",
       "    </tr>\n",
       "    <tr>\n",
       "      <th>2</th>\n",
       "      <td>5/2/2012</td>\n",
       "      <td>206.970001</td>\n",
       "      <td>208.270004</td>\n",
       "      <td>206.910004</td>\n",
       "      <td>208.059998</td>\n",
       "      <td>171.949890</td>\n",
       "      <td>2360300</td>\n",
       "    </tr>\n",
       "    <tr>\n",
       "      <th>3</th>\n",
       "      <td>5/3/2012</td>\n",
       "      <td>208.270004</td>\n",
       "      <td>208.919998</td>\n",
       "      <td>206.550003</td>\n",
       "      <td>207.240005</td>\n",
       "      <td>171.272232</td>\n",
       "      <td>2826600</td>\n",
       "    </tr>\n",
       "    <tr>\n",
       "      <th>4</th>\n",
       "      <td>5/4/2012</td>\n",
       "      <td>206.470001</td>\n",
       "      <td>207.110001</td>\n",
       "      <td>204.399994</td>\n",
       "      <td>204.990005</td>\n",
       "      <td>169.412750</td>\n",
       "      <td>4023600</td>\n",
       "    </tr>\n",
       "  </tbody>\n",
       "</table>\n",
       "</div>"
      ],
      "text/plain": [
       "        Date        Open        High         Low       Close   Adj Close  \\\n",
       "0  4/30/2012  206.710007  207.960007  206.320007  207.080002  171.139999   \n",
       "1   5/1/2012  207.179993  208.929993  206.710007  208.000000  171.900360   \n",
       "2   5/2/2012  206.970001  208.270004  206.910004  208.059998  171.949890   \n",
       "3   5/3/2012  208.270004  208.919998  206.550003  207.240005  171.272232   \n",
       "4   5/4/2012  206.470001  207.110001  204.399994  204.990005  169.412750   \n",
       "\n",
       "    Volume  \n",
       "0  2773200  \n",
       "1  2715900  \n",
       "2  2360300  \n",
       "3  2826600  \n",
       "4  4023600  "
      ]
     },
     "execution_count": 132,
     "metadata": {},
     "output_type": "execute_result"
    }
   ],
   "source": [
    "dataset.head()"
   ]
  },
  {
   "cell_type": "code",
   "execution_count": 133,
   "metadata": {
    "collapsed": false,
    "deletable": true,
    "editable": true
   },
   "outputs": [
    {
     "name": "stdout",
     "output_type": "stream",
     "text": [
      "<class 'pandas.core.frame.DataFrame'>\n",
      "RangeIndex: 1509 entries, 0 to 1508\n",
      "Data columns (total 7 columns):\n",
      "Date         1509 non-null object\n",
      "Open         1509 non-null float64\n",
      "High         1509 non-null float64\n",
      "Low          1509 non-null float64\n",
      "Close        1509 non-null float64\n",
      "Adj Close    1509 non-null float64\n",
      "Volume       1509 non-null int64\n",
      "dtypes: float64(5), int64(1), object(1)\n",
      "memory usage: 82.6+ KB\n"
     ]
    }
   ],
   "source": [
    "dataset.info()"
   ]
  },
  {
   "cell_type": "code",
   "execution_count": 134,
   "metadata": {
    "collapsed": false,
    "deletable": true,
    "editable": true
   },
   "outputs": [
    {
     "name": "stdout",
     "output_type": "stream",
     "text": [
      "1056.3\n"
     ]
    }
   ],
   "source": [
    "print(1509*.7)"
   ]
  },
  {
   "cell_type": "code",
   "execution_count": 135,
   "metadata": {
    "collapsed": false,
    "deletable": true,
    "editable": true
   },
   "outputs": [
    {
     "data": {
      "text/html": [
       "<div>\n",
       "<style>\n",
       "    .dataframe thead tr:only-child th {\n",
       "        text-align: right;\n",
       "    }\n",
       "\n",
       "    .dataframe thead th {\n",
       "        text-align: left;\n",
       "    }\n",
       "\n",
       "    .dataframe tbody tr th {\n",
       "        vertical-align: top;\n",
       "    }\n",
       "</style>\n",
       "<table border=\"1\" class=\"dataframe\">\n",
       "  <thead>\n",
       "    <tr style=\"text-align: right;\">\n",
       "      <th></th>\n",
       "      <th>Date</th>\n",
       "      <th>Open</th>\n",
       "      <th>High</th>\n",
       "      <th>Low</th>\n",
       "      <th>Close</th>\n",
       "      <th>Adj Close</th>\n",
       "      <th>Volume</th>\n",
       "    </tr>\n",
       "  </thead>\n",
       "  <tbody>\n",
       "    <tr>\n",
       "      <th>0</th>\n",
       "      <td>4/30/2012</td>\n",
       "      <td>206.710007</td>\n",
       "      <td>207.960007</td>\n",
       "      <td>206.320007</td>\n",
       "      <td>207.080002</td>\n",
       "      <td>171.139999</td>\n",
       "      <td>2773200</td>\n",
       "    </tr>\n",
       "    <tr>\n",
       "      <th>1</th>\n",
       "      <td>5/1/2012</td>\n",
       "      <td>207.179993</td>\n",
       "      <td>208.929993</td>\n",
       "      <td>206.710007</td>\n",
       "      <td>208.000000</td>\n",
       "      <td>171.900360</td>\n",
       "      <td>2715900</td>\n",
       "    </tr>\n",
       "    <tr>\n",
       "      <th>2</th>\n",
       "      <td>5/2/2012</td>\n",
       "      <td>206.970001</td>\n",
       "      <td>208.270004</td>\n",
       "      <td>206.910004</td>\n",
       "      <td>208.059998</td>\n",
       "      <td>171.949890</td>\n",
       "      <td>2360300</td>\n",
       "    </tr>\n",
       "    <tr>\n",
       "      <th>3</th>\n",
       "      <td>5/3/2012</td>\n",
       "      <td>208.270004</td>\n",
       "      <td>208.919998</td>\n",
       "      <td>206.550003</td>\n",
       "      <td>207.240005</td>\n",
       "      <td>171.272232</td>\n",
       "      <td>2826600</td>\n",
       "    </tr>\n",
       "    <tr>\n",
       "      <th>4</th>\n",
       "      <td>5/4/2012</td>\n",
       "      <td>206.470001</td>\n",
       "      <td>207.110001</td>\n",
       "      <td>204.399994</td>\n",
       "      <td>204.990005</td>\n",
       "      <td>169.412750</td>\n",
       "      <td>4023600</td>\n",
       "    </tr>\n",
       "  </tbody>\n",
       "</table>\n",
       "</div>"
      ],
      "text/plain": [
       "        Date        Open        High         Low       Close   Adj Close  \\\n",
       "0  4/30/2012  206.710007  207.960007  206.320007  207.080002  171.139999   \n",
       "1   5/1/2012  207.179993  208.929993  206.710007  208.000000  171.900360   \n",
       "2   5/2/2012  206.970001  208.270004  206.910004  208.059998  171.949890   \n",
       "3   5/3/2012  208.270004  208.919998  206.550003  207.240005  171.272232   \n",
       "4   5/4/2012  206.470001  207.110001  204.399994  204.990005  169.412750   \n",
       "\n",
       "    Volume  \n",
       "0  2773200  \n",
       "1  2715900  \n",
       "2  2360300  \n",
       "3  2826600  \n",
       "4  4023600  "
      ]
     },
     "execution_count": 135,
     "metadata": {},
     "output_type": "execute_result"
    }
   ],
   "source": [
    "#set up a training set- not random since sequence will matter\n",
    "data_train = pd.DataFrame(dataset[0:1056])\n",
    "data_train.head()"
   ]
  },
  {
   "cell_type": "code",
   "execution_count": 136,
   "metadata": {
    "collapsed": false,
    "deletable": true,
    "editable": true
   },
   "outputs": [
    {
     "data": {
      "text/html": [
       "<div>\n",
       "<style>\n",
       "    .dataframe thead tr:only-child th {\n",
       "        text-align: right;\n",
       "    }\n",
       "\n",
       "    .dataframe thead th {\n",
       "        text-align: left;\n",
       "    }\n",
       "\n",
       "    .dataframe tbody tr th {\n",
       "        vertical-align: top;\n",
       "    }\n",
       "</style>\n",
       "<table border=\"1\" class=\"dataframe\">\n",
       "  <thead>\n",
       "    <tr style=\"text-align: right;\">\n",
       "      <th></th>\n",
       "      <th>Date</th>\n",
       "      <th>Open</th>\n",
       "      <th>High</th>\n",
       "      <th>Low</th>\n",
       "      <th>Close</th>\n",
       "      <th>Adj Close</th>\n",
       "      <th>Volume</th>\n",
       "    </tr>\n",
       "  </thead>\n",
       "  <tbody>\n",
       "    <tr>\n",
       "      <th>1056</th>\n",
       "      <td>7/12/2016</td>\n",
       "      <td>156.000000</td>\n",
       "      <td>157.119995</td>\n",
       "      <td>155.520004</td>\n",
       "      <td>157.039993</td>\n",
       "      <td>147.086227</td>\n",
       "      <td>3843800</td>\n",
       "    </tr>\n",
       "    <tr>\n",
       "      <th>1057</th>\n",
       "      <td>7/13/2016</td>\n",
       "      <td>157.750000</td>\n",
       "      <td>158.339996</td>\n",
       "      <td>157.059998</td>\n",
       "      <td>158.020004</td>\n",
       "      <td>148.004135</td>\n",
       "      <td>2746400</td>\n",
       "    </tr>\n",
       "    <tr>\n",
       "      <th>1058</th>\n",
       "      <td>7/14/2016</td>\n",
       "      <td>158.809998</td>\n",
       "      <td>161.399994</td>\n",
       "      <td>158.580002</td>\n",
       "      <td>160.279999</td>\n",
       "      <td>150.120880</td>\n",
       "      <td>4637600</td>\n",
       "    </tr>\n",
       "    <tr>\n",
       "      <th>1059</th>\n",
       "      <td>7/15/2016</td>\n",
       "      <td>159.899994</td>\n",
       "      <td>159.979996</td>\n",
       "      <td>158.500000</td>\n",
       "      <td>159.779999</td>\n",
       "      <td>149.652557</td>\n",
       "      <td>4476800</td>\n",
       "    </tr>\n",
       "    <tr>\n",
       "      <th>1060</th>\n",
       "      <td>7/18/2016</td>\n",
       "      <td>159.300003</td>\n",
       "      <td>160.750000</td>\n",
       "      <td>158.729996</td>\n",
       "      <td>159.860001</td>\n",
       "      <td>149.727524</td>\n",
       "      <td>6729700</td>\n",
       "    </tr>\n",
       "  </tbody>\n",
       "</table>\n",
       "</div>"
      ],
      "text/plain": [
       "           Date        Open        High         Low       Close   Adj Close  \\\n",
       "1056  7/12/2016  156.000000  157.119995  155.520004  157.039993  147.086227   \n",
       "1057  7/13/2016  157.750000  158.339996  157.059998  158.020004  148.004135   \n",
       "1058  7/14/2016  158.809998  161.399994  158.580002  160.279999  150.120880   \n",
       "1059  7/15/2016  159.899994  159.979996  158.500000  159.779999  149.652557   \n",
       "1060  7/18/2016  159.300003  160.750000  158.729996  159.860001  149.727524   \n",
       "\n",
       "       Volume  \n",
       "1056  3843800  \n",
       "1057  2746400  \n",
       "1058  4637600  \n",
       "1059  4476800  \n",
       "1060  6729700  "
      ]
     },
     "execution_count": 136,
     "metadata": {},
     "output_type": "execute_result"
    }
   ],
   "source": [
    "#set up a testing set\n",
    "data_test = pd.DataFrame(dataset[1056:1510])\n",
    "data_test.head()"
   ]
  },
  {
   "cell_type": "code",
   "execution_count": 137,
   "metadata": {
    "collapsed": true,
    "deletable": true,
    "editable": true
   },
   "outputs": [],
   "source": [
    "training_set = data_train.iloc[:, 1:2].values"
   ]
  },
  {
   "cell_type": "code",
   "execution_count": 138,
   "metadata": {
    "collapsed": true,
    "deletable": true,
    "editable": true
   },
   "outputs": [],
   "source": [
    "testing_set = data_test.iloc[:, 1:2].values"
   ]
  },
  {
   "cell_type": "code",
   "execution_count": 139,
   "metadata": {
    "collapsed": true,
    "deletable": true,
    "editable": true
   },
   "outputs": [],
   "source": [
    "from sklearn.preprocessing import MinMaxScaler\n",
    "sc = MinMaxScaler(feature_range = (0,1))\n",
    "training_set_scaled = sc.fit_transform(training_set)\n",
    "testing_set_scaled = sc.transform(testing_set)"
   ]
  },
  {
   "cell_type": "code",
   "execution_count": 140,
   "metadata": {
    "collapsed": false,
    "deletable": true,
    "editable": true
   },
   "outputs": [
    {
     "data": {
      "text/plain": [
       "(453, 1)"
      ]
     },
     "execution_count": 140,
     "metadata": {},
     "output_type": "execute_result"
    }
   ],
   "source": [
    "testing_set_scaled.shape"
   ]
  },
  {
   "cell_type": "code",
   "execution_count": 141,
   "metadata": {
    "collapsed": false,
    "deletable": true,
    "editable": true
   },
   "outputs": [
    {
     "data": {
      "text/plain": [
       "(1056, 1)"
      ]
     },
     "execution_count": 141,
     "metadata": {},
     "output_type": "execute_result"
    }
   ],
   "source": [
    "training_set_scaled.shape"
   ]
  },
  {
   "cell_type": "code",
   "execution_count": 152,
   "metadata": {
    "collapsed": true,
    "deletable": true,
    "editable": true
   },
   "outputs": [],
   "source": [
    "#creating a data sctructure with 60 timesteps\n",
    "#three dimensions (features, observations, timesteps)\n",
    "X_train = []\n",
    "y_train = []\n",
    "for i in range(60,1056):\n",
    "    X_train.append(training_set_scaled[i-60:i, 0])\n",
    "    y_train.append(training_set_scaled[i, 0])\n",
    "X_train, y_train = np.array(X_train), np.array(y_train)"
   ]
  },
  {
   "cell_type": "code",
   "execution_count": 153,
   "metadata": {
    "collapsed": true,
    "deletable": true,
    "editable": true
   },
   "outputs": [],
   "source": [
    "X_train = np.reshape(X_train, (X_train.shape[0], X_train.shape[1], 1))"
   ]
  },
  {
   "cell_type": "markdown",
   "metadata": {
    "deletable": true,
    "editable": true
   },
   "source": [
    "#creating a data sctructure with 60 timesteps\n",
    "#three dimensions (features, observations, timesteps)\n",
    "X_test = []\n",
    "y_test = []\n",
    "for i in range(60,453):\n",
    "    X_test.append(testing_set_scaled[i-60:i, 0])\n",
    "    y_test.append(testing_set_scaled[i, 0])\n",
    "X_test, y_test = np.array(X_test), np.array(y_test)"
   ]
  },
  {
   "cell_type": "markdown",
   "metadata": {
    "deletable": true,
    "editable": true
   },
   "source": [
    "X_test = np.reshape(X_test, (X_test.shape[0], X_test.shape[1], 1))"
   ]
  },
  {
   "cell_type": "code",
   "execution_count": 154,
   "metadata": {
    "collapsed": true,
    "deletable": true,
    "editable": true
   },
   "outputs": [],
   "source": [
    "from keras.models import Sequential\n",
    "from keras.layers import Dense\n",
    "from keras.layers import LSTM\n",
    "from keras.layers import Dropout"
   ]
  },
  {
   "cell_type": "code",
   "execution_count": 155,
   "metadata": {
    "collapsed": true,
    "deletable": true,
    "editable": true
   },
   "outputs": [],
   "source": [
    "regressor = Sequential()"
   ]
  },
  {
   "cell_type": "code",
   "execution_count": 156,
   "metadata": {
    "collapsed": true,
    "deletable": true,
    "editable": true
   },
   "outputs": [],
   "source": [
    "regressor.add(LSTM(units=50, return_sequences=True, input_shape=(X_train.shape[1],1)))\n",
    "regressor.add(Dropout(0.2))"
   ]
  },
  {
   "cell_type": "code",
   "execution_count": 157,
   "metadata": {
    "collapsed": true,
    "deletable": true,
    "editable": true
   },
   "outputs": [],
   "source": [
    "regressor.add(LSTM(units=50, return_sequences=True))\n",
    "regressor.add(Dropout(0.2))"
   ]
  },
  {
   "cell_type": "code",
   "execution_count": 158,
   "metadata": {
    "collapsed": true,
    "deletable": true,
    "editable": true
   },
   "outputs": [],
   "source": [
    "regressor.add(LSTM(units=50, return_sequences=True))\n",
    "regressor.add(Dropout(0.2))"
   ]
  },
  {
   "cell_type": "code",
   "execution_count": 159,
   "metadata": {
    "collapsed": true,
    "deletable": true,
    "editable": true
   },
   "outputs": [],
   "source": [
    "regressor.add(LSTM(units=50))\n",
    "regressor.add(Dropout(0.2))"
   ]
  },
  {
   "cell_type": "code",
   "execution_count": 160,
   "metadata": {
    "collapsed": true,
    "deletable": true,
    "editable": true
   },
   "outputs": [],
   "source": [
    "regressor.add(Dense(units=1))"
   ]
  },
  {
   "cell_type": "code",
   "execution_count": 161,
   "metadata": {
    "collapsed": true,
    "deletable": true,
    "editable": true
   },
   "outputs": [],
   "source": [
    "regressor.compile(optimizer='adam', loss='mean_squared_error')"
   ]
  },
  {
   "cell_type": "code",
   "execution_count": 162,
   "metadata": {
    "collapsed": false,
    "deletable": true,
    "editable": true
   },
   "outputs": [
    {
     "name": "stdout",
     "output_type": "stream",
     "text": [
      "Epoch 1/35\n",
      "996/996 [==============================] - 10s 10ms/step - loss: 0.0740\n",
      "Epoch 2/35\n",
      "996/996 [==============================] - 7s 7ms/step - loss: 0.0130\n",
      "Epoch 3/35\n",
      "996/996 [==============================] - 7s 7ms/step - loss: 0.0082\n",
      "Epoch 4/35\n",
      "996/996 [==============================] - 7s 7ms/step - loss: 0.0086\n",
      "Epoch 5/35\n",
      "996/996 [==============================] - 7s 8ms/step - loss: 0.0085\n",
      "Epoch 6/35\n",
      "996/996 [==============================] - 7s 7ms/step - loss: 0.0076\n",
      "Epoch 7/35\n",
      "996/996 [==============================] - 7s 7ms/step - loss: 0.0075\n",
      "Epoch 8/35\n",
      "996/996 [==============================] - 7s 7ms/step - loss: 0.0069\n",
      "Epoch 9/35\n",
      "996/996 [==============================] - 7s 8ms/step - loss: 0.0066\n",
      "Epoch 10/35\n",
      "996/996 [==============================] - 7s 8ms/step - loss: 0.0063\n",
      "Epoch 11/35\n",
      "996/996 [==============================] - 8s 8ms/step - loss: 0.0065\n",
      "Epoch 12/35\n",
      "996/996 [==============================] - 8s 8ms/step - loss: 0.0066\n",
      "Epoch 13/35\n",
      "996/996 [==============================] - 8s 8ms/step - loss: 0.0063\n",
      "Epoch 14/35\n",
      "996/996 [==============================] - 8s 8ms/step - loss: 0.0061\n",
      "Epoch 15/35\n",
      "996/996 [==============================] - 7s 7ms/step - loss: 0.0059\n",
      "Epoch 16/35\n",
      "996/996 [==============================] - 7s 7ms/step - loss: 0.0053\n",
      "Epoch 17/35\n",
      "996/996 [==============================] - 7s 7ms/step - loss: 0.0059\n",
      "Epoch 18/35\n",
      "996/996 [==============================] - 7s 7ms/step - loss: 0.0055\n",
      "Epoch 19/35\n",
      "996/996 [==============================] - 7s 7ms/step - loss: 0.0057\n",
      "Epoch 20/35\n",
      "996/996 [==============================] - 7s 7ms/step - loss: 0.0048\n",
      "Epoch 21/35\n",
      "996/996 [==============================] - 7s 7ms/step - loss: 0.0052\n",
      "Epoch 22/35\n",
      "996/996 [==============================] - 7s 7ms/step - loss: 0.0051\n",
      "Epoch 23/35\n",
      "996/996 [==============================] - 7s 7ms/step - loss: 0.0046\n",
      "Epoch 24/35\n",
      "996/996 [==============================] - 7s 7ms/step - loss: 0.0054\n",
      "Epoch 25/35\n",
      "996/996 [==============================] - 7s 7ms/step - loss: 0.0049\n",
      "Epoch 26/35\n",
      "996/996 [==============================] - 7s 7ms/step - loss: 0.0047\n",
      "Epoch 27/35\n",
      "996/996 [==============================] - 7s 7ms/step - loss: 0.0048\n",
      "Epoch 28/35\n",
      "996/996 [==============================] - 7s 7ms/step - loss: 0.0043\n",
      "Epoch 29/35\n",
      "996/996 [==============================] - 7s 7ms/step - loss: 0.0048\n",
      "Epoch 30/35\n",
      "996/996 [==============================] - 7s 7ms/step - loss: 0.0046\n",
      "Epoch 31/35\n",
      "996/996 [==============================] - 7s 7ms/step - loss: 0.0040\n",
      "Epoch 32/35\n",
      "996/996 [==============================] - 7s 7ms/step - loss: 0.0043\n",
      "Epoch 33/35\n",
      "996/996 [==============================] - 7s 7ms/step - loss: 0.0046\n",
      "Epoch 34/35\n",
      "996/996 [==============================] - 7s 7ms/step - loss: 0.0041\n",
      "Epoch 35/35\n",
      "996/996 [==============================] - 7s 7ms/step - loss: 0.0038\n"
     ]
    },
    {
     "data": {
      "text/plain": [
       "<keras.callbacks.History at 0x1266df2aa58>"
      ]
     },
     "execution_count": 162,
     "metadata": {},
     "output_type": "execute_result"
    }
   ],
   "source": [
    "regressor.fit(X_train, y_train, epochs=35, batch_size=35)"
   ]
  },
  {
   "cell_type": "code",
   "execution_count": 163,
   "metadata": {
    "collapsed": true,
    "deletable": true,
    "editable": true
   },
   "outputs": [],
   "source": [
    "real_stock_price_train = data_train.iloc[:, 1:2].values\n",
    "real_stock_price_test = data_test.iloc[:, 1:2].values"
   ]
  },
  {
   "cell_type": "code",
   "execution_count": 177,
   "metadata": {
    "collapsed": true,
    "deletable": true,
    "editable": true
   },
   "outputs": [],
   "source": [
    "dataset_total = pd.concat((data_train['Open'], data_test['Open']), axis=0)\n",
    "inputs = dataset_total[len(dataset_total)-len(data_test)-60:].values\n",
    "inputs = inputs.reshape(-1,1)\n",
    "inputs = sc.transform(inputs)\n",
    "X_test = []\n",
    "for i in range(60,513):\n",
    "    X_test.append(inputs[i-60:i,0])"
   ]
  },
  {
   "cell_type": "code",
   "execution_count": 178,
   "metadata": {
    "collapsed": true,
    "deletable": true,
    "editable": true
   },
   "outputs": [],
   "source": [
    "X_test = np.array(X_test)\n",
    "X_test = np.reshape(X_test, (X_test.shape[0], X_test.shape[1], 1))\n",
    "predicted_stock_price = regressor.predict(X_test)\n",
    "predicted_stock_price = sc.inverse_transform(predicted_stock_price)"
   ]
  },
  {
   "cell_type": "code",
   "execution_count": 179,
   "metadata": {
    "collapsed": false,
    "deletable": true,
    "editable": true
   },
   "outputs": [
    {
     "data": {
      "image/png": "[encoded data removed]",
      "text/plain": [
       "<matplotlib.figure.Figure at 0x1266b3bde80>"
      ]
     },
     "metadata": {},
     "output_type": "display_data"
    }
   ],
   "source": [
    "## Training set\n",
    "\n",
    "plt.plot(real_stock_price_test, color='red', label='Real IBM Stock Price')\n",
    "plt.plot(predicted_stock_price, color = 'blue', label = 'Predicted IBM Stock Price')\n",
    "plt.title('IBM Stock Price Prediction')\n",
    "plt.xlabel('Time')\n",
    "plt.ylabel('IBM Stock Price')\n",
    "plt.legend()\n",
    "plt.show()"
   ]
  },
  {
   "cell_type": "code",
   "execution_count": null,
   "metadata": {
    "collapsed": true,
    "deletable": true,
    "editable": true
   },
   "outputs": [],
   "source": []
  }
 ],
 "metadata": {
  "kernelspec": {
   "display_name": "Python 3",
   "language": "python",
   "name": "python3"
  },
  "language_info": {
   "codemirror_mode": {
    "name": "ipython",
    "version": 3
   },
   "file_extension": ".py",
   "mimetype": "text/x-python",
   "name": "python",
   "nbconvert_exporter": "python",
   "pygments_lexer": "ipython3",
   "version": "3.5.2"
  }
 },
 "nbformat": 4,
 "nbformat_minor": 2
}
